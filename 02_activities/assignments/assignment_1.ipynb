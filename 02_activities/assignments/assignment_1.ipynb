{
 "cells": [
  {
   "cell_type": "markdown",
   "metadata": {},
   "source": [
    "# Working with parquet files\n",
    "\n",
    "## Objective\n",
    "\n",
    "+ In this assignment, we will use the data downloaded with the module `data_manager` to create features.\n",
    "\n",
    "(11 pts total)\n",
    "\n",
    "## Prerequisites\n",
    "\n",
    "+ This notebook assumes that price data is available to you in the environment variable `PRICE_DATA`. If you have not done so, then execute the notebook `production_2_data_engineering.ipynb` to create this data set.\n"
   ]
  },
  {
   "cell_type": "markdown",
   "metadata": {},
   "source": [
    "+ Load the environment variables using dotenv. (1 pt)"
   ]
  },
  {
   "cell_type": "code",
   "execution_count": null,
   "metadata": {},
   "outputs": [],
   "source": [
    "# Write your code below.\n",
    "import os\n",
    "import time\n",
    "os.chdir('../../01_materials/labs/')\n",
    "    \n",
    "%load_ext dotenv \n",
    "%dotenv .env"
   ]
  },
  {
   "cell_type": "code",
   "execution_count": 2,
   "metadata": {},
   "outputs": [],
   "source": [
    "import dask\n",
    "dask.config.set({'dataframe.query-planning': True})\n",
    "import dask.dataframe as dd"
   ]
  },
  {
   "cell_type": "markdown",
   "metadata": {},
   "source": [
    "+ Load the environment variable `PRICE_DATA`.\n",
    "+ Use [glob](https://docs.python.org/3/library/glob.html) to find the path of all parquet files in the directory `PRICE_DATA`.\n",
    "\n",
    "(1pt)"
   ]
  },
  {
   "cell_type": "code",
   "execution_count": 3,
   "metadata": {},
   "outputs": [],
   "source": [
    "import os\n",
    "from glob import glob\n",
    "\n",
    "# Write your code below.\n",
    "#dataprice\n",
    "PRICE_DATA = os.getenv(\"PRICE_DATA\")\n",
    "\n",
    "# Get all parquet files  using Glob\n",
    "parquet_files = glob(os.path.join(PRICE_DATA, \"*/*.parquet\"))\n",
    "parquet_files\n"
   ]
  },
  {
   "cell_type": "markdown",
   "metadata": {},
   "source": [
    "For each ticker and using Dask, do the following:\n",
    "\n",
    "+ Add lags for variables Close and Adj_Close.\n",
    "+ Add returns based on Adjusted Close:\n",
    "    \n",
    "    - `returns`: (Adj Close / Adj Close_lag) - 1\n",
    "\n",
    "+ Add the following range: \n",
    "\n",
    "    - `hi_lo_range`: this is the day's High minus Low.\n",
    "\n",
    "+ Assign the result to `dd_feat`.\n",
    "\n",
    "(4 pt)"
   ]
  },
  {
   "cell_type": "code",
   "execution_count": 4,
   "metadata": {},
   "outputs": [],
   "source": [
    "# Write your code below.\n",
    "\n",
    "import pandas as pd\n",
    "import yfinance as yf\n",
    "start = time.time()\n",
    "unadjusted_close_list = list()\n",
    "\n",
    "\n",
    "ticker_file = os.getenv(\"TICKERS\")\n",
    "tickers = pd.read_csv(ticker_file).sample(50, random_state=42)\n",
    "\n",
    "for k, row in tickers.iterrows():  \n",
    "    stock = yf.Ticker(row['ticker'])\n",
    "    # print(f'Processing {row[\"ticker\"]}')\n",
    "\n",
    " unadjusted_px = (stock.history(start=\"2013-12-01\", end=\"2024-02-01\", auto_adjust=False)\n",
    "                     .reset_index()   # Reset index to get date as a column\n",
    "                     .assign(ticker=row['ticker']))    # Add ticker\n",
    "    \n",
    "    if unadjusted_px.shape[0] == 0:\n",
    "        # print(f'No data for {row[\"ticker\"]}')  # Validate: do not fail silently.\n",
    "        continue\n",
    "    \n",
    "    # print(f'Downloaded {unadjusted_px.shape}.')\n",
    "    unadjusted_close_list.append(unadjusted_px)\n",
    "\n",
    "\n",
    "unadjusted_px_dt = pd.concat(unadjusted_close_list, axis=0)\n",
    "# print(f'Final shape {final_px_dt.shape}.')\n",
    "\n",
    "# unadjusted_px_dd = dd.from_pandas(unadjusted_px_dt, npartitions=len(tickers))\n",
    "\n",
    "# Define the root directory to store unadjusted data\n",
    "PRICE_DATA_UNADJUSTED = \"./unadjusted_data\"\n",
    "os.makedirs(PRICE_DATA_UNADJUSTED, exist_ok=True)\n",
    "\n",
    "import shutil\n",
    "if os.path.exists(PRICE_DATA_UNADJUSTED):\n",
    "    shutil.rmtree(PRICE_DATA_UNADJUSTED)\n",
    "\n",
    "# Process and store data by ticker and year\n",
    "for ticker in unadjusted_px_dt.ticker.unique():\n",
    "    ticker_dt = unadjusted_px_dt[unadjusted_px_dt.ticker == ticker]\n",
    "    ticker_dt = ticker_dt.assign(year = ticker_dt.Date.dt.year)\n",
    "    for yr in ticker_dt.year.unique():\n",
    "        yr_dt = ticker_dt[ticker_dt.year == yr]\n",
    "        yr_path = os.path.join(PRICE_DATA_UNADJUSTED, ticker, f\"{ticker}_{yr}.parquet\")\n",
    "        os.makedirs(os.path.dirname(yr_path), exist_ok=True)\n",
    "        yr_dt.to_parquet(yr_path, engine = \"pyarrow\")\n",
    "\n",
    "parquet_files_unadjusted = glob(os.path.join(PRICE_DATA_UNADJUSTED, \"*/*.parquet\"))\n",
    "\n",
    "end = time.time()\n",
    "print(f'The code took {end - start} seconds.')\n",
    "# Load the Parquet files (Unadjusted Data newly saved) into a Dask DataFrame\n",
    "dd_px_unadjusted = dd.read_parquet(parquet_files_unadjusted).set_index(\"ticker\")\n",
    "dd_px_unadjusted.compute().head(5)"
   ]
  },
  {
   "cell_type": "code",
   "execution_count": null,
   "metadata": {},
   "outputs": [],
   "source": [
    "start = time.time()\n",
    "\n",
    "\n",
    "dd_px_adjusted = dd.read_parquet(parquet_files)\n",
    "# Rename the column of 'Close' to 'Adj_Close'\n",
    "dd_px_adjusted = dd_px_adjusted.rename(columns={\"Close\": \"Adj_Close\"})\n",
    "\n",
    "# Load the Parquet files (Unadjusted Data newly saved) into a Dask DataFrame\n",
    "dd_px_unadjusted = dd.read_parquet(parquet_files_unadjusted)\n",
    "\n",
    "# Create a new column as index to speed up the merge \n",
    "dd_px_adjusted['ticker_date'] = dd_px_adjusted['ticker'] + '_' + dd_px_adjusted['Date'].astype(str)\n",
    "dd_px_unadjusted['ticker_date'] = dd_px_unadjusted['ticker'] + '_' + dd_px_unadjusted['Date'].astype(str)\n",
    "\n",
    "# Set the new column as the index\n",
    "dd_px_adjusted = dd_px_adjusted.set_index('ticker_date')\n",
    "dd_px_unadjusted = dd_px_unadjusted.set_index('ticker_date')\n",
    "\n",
    "#  Merge based on the new index\n",
    "dd_px = dd_px_adjusted.merge(dd_px_unadjusted[['Close']], left_index=True, right_index=True)\n",
    "\n",
    "#  Reset the index back to 'ticker' \n",
    "dd_px = (dd_px.reset_index()\n",
    "              .set_index('ticker')\n",
    "              .drop(columns=['ticker_date']))\n",
    "\n",
    "# Add lagged features, calculate returns, and high-low range\n",
    "dd_feat = (dd_px.groupby('ticker', group_keys=False).apply(\n",
    "    lambda x: x.assign(\n",
    "        Close_lag = x['Close'].shift(1),\n",
    "        Adj_Close_lag = x['Adj_Close'].shift(1)\n",
    "        )\n",
    ").assign(\n",
    "    returns = lambda x: x['Adj_Close']/x['Adj_Close_lag'] - 1\n",
    ").assign(\n",
    "    hi_lo_range=lambda x: x['High'] - x['Low'],\n",
    "))\n",
    "end = time.time()\n",
    "print(f'The code took {end - start} seconds.')\n",
    "\n",
    "dd_feat.compute()"
   ]
  },
  {
   "cell_type": "markdown",
   "metadata": {},
   "source": [
    "+ Convert the Dask data frame to a pandas data frame. \n",
    "+ Add a rolling average return calculation with a window of 10 days.\n",
    "+ *Tip*: Consider using `.rolling(10).mean()`.\n",
    "\n",
    "(3 pt)"
   ]
  },
  {
   "cell_type": "code",
   "execution_count": 25,
   "metadata": {},
   "outputs": [],
   "source": [
    "# Write your code below.\n",
    "\n",
    "start = time.time()\n",
    "\n",
    "#Drop null values for the first row because Close_lag, Adj_Close_lag, returns are nan\n",
    "dd_feat = dd_feat.dropna()\n",
    "\n",
    "#Convert to Pandas DataFrame\n",
    "pd_feat = dd_feat.compute()\n",
    "\n",
    "# Add rolling average return calculation with a window of 10 days\n",
    "# Set min_periods to be 1 to avoid the first rows being NaN due to lack of data points\n",
    "pd_feat['rolling_avg_return'] = pd_feat.groupby('ticker')['returns'] \\\n",
    "                                .rolling(10, min_periods = 1) \\\n",
    "                                .mean() \\\n",
    "                                .reset_index(level=0, drop=True)\n",
    "end = time.time()\n",
    "print(f'The code took {end - start} seconds.')\n",
    "\n",
    "#Display the resulting DataFrame\n",
    "pd_feat.head()"
   ]
  },
  {
   "cell_type": "markdown",
   "metadata": {},
   "source": [
    "Please comment:\n",
    "\n",
    "+ Was it necessary to convert to pandas to calculate the moving average return?\n",
    "+ Would it have been better to do it in Dask? Why?\n",
    "\n",
    "(1 pt)"
   ]
  },
  {
   "cell_type": "markdown",
   "metadata": {},
   "source": [
    "1. \n",
    "It was not necessary to convert to Pandas to calculate the rolling average return.\n",
    "2.\n",
    "Maybe. To save memory yes, doing the computation using the dask data frame will be better. But since this data set is small enough for the memory of the computer, then is ok to use it."
   ]
  },
  {
   "cell_type": "markdown",
   "metadata": {},
   "source": [
    "## Criteria\n",
    "\n",
    "|Criteria|Complete|Incomplete|\n",
    "|---------------------|----|----|\n",
    "|Calculations         |Calculations were done correctly.|Calculations were not done correctly.|\n",
    "|Explanation of answer|Answer was concise and explained the learner's reasoning in depth.|Answer was not concise and did not explained the learner's reasoning in depth.|"
   ]
  },
  {
   "cell_type": "markdown",
   "metadata": {},
   "source": [
    "## Submission Information\n",
    "\n",
    "🚨 **Please review our [Assignment Submission Guide](https://github.com/UofT-DSI/onboarding/blob/main/onboarding_documents/submissions.md)** 🚨 for detailed instructions on how to format, branch, and submit your work. Following these guidelines is crucial for your submissions to be evaluated correctly.\n",
    "\n",
    "### Submission Parameters:\n",
    "* Submission Due Date: `HH:MM AM/PM - DD/MM/YYYY`\n",
    "* The branch name for your repo should be: `assignment-1`\n",
    "* What to submit for this assignment:\n",
    "    * This Jupyter Notebook (assignment_1.ipynb) should be populated and should be the only change in your pull request.\n",
    "* What the pull request link should look like for this assignment: `https://github.com/<your_github_username>/production/pull/<pr_id>`\n",
    "    * Open a private window in your browser. Copy and paste the link to your pull request into the address bar. Make sure you can see your pull request properly. This helps the technical facilitator and learning support staff review your submission easily.\n",
    "\n",
    "Checklist:\n",
    "- [ ] Created a branch with the correct naming convention.\n",
    "- [ ] Ensured that the repository is public.\n",
    "- [ ] Reviewed the PR description guidelines and adhered to them.\n",
    "- [ ] Verify that the link is accessible in a private browser window.\n",
    "\n",
    "If you encounter any difficulties or have questions, please don't hesitate to reach out to our team via our Slack at `#cohort-3-help`. Our Technical Facilitators and Learning Support staff are here to help you navigate any challenges."
   ]
  }
 ],
 "metadata": {
  "kernelspec": {
   "display_name": "env",
   "language": "python",
   "name": "python3"
  },
  "language_info": {
   "codemirror_mode": {
    "name": "ipython",
    "version": 3
   },
   "file_extension": ".py",
   "mimetype": "text/x-python",
   "name": "python",
   "nbconvert_exporter": "python",
   "pygments_lexer": "ipython3",
   "version": "3.9.19"
  }
 },
 "nbformat": 4,
 "nbformat_minor": 2
}
